{
  "nbformat": 4,
  "nbformat_minor": 0,
  "metadata": {
    "colab": {
      "provenance": [],
      "authorship_tag": "ABX9TyNZEOdKPKQugp9zfPkMFV/0",
      "include_colab_link": true
    },
    "kernelspec": {
      "name": "python3",
      "display_name": "Python 3"
    },
    "language_info": {
      "name": "python"
    }
  },
  "cells": [
    {
      "cell_type": "markdown",
      "metadata": {
        "id": "view-in-github",
        "colab_type": "text"
      },
      "source": [
        "<a href=\"https://colab.research.google.com/github/Utkarsh-Mishra444/BS-191/blob/main/BS191_Ellipsoid.ipynb\" target=\"_parent\"><img src=\"https://colab.research.google.com/assets/colab-badge.svg\" alt=\"Open In Colab\"/></a>"
      ]
    },
    {
      "cell_type": "code",
      "execution_count": 14,
      "metadata": {
        "id": "xcXd3or-xKzv"
      },
      "outputs": [],
      "source": [
        "import numpy as np\n",
        "import pandas as pd\n",
        "import cv2 as cv\n",
        "import os\n",
        "from google.colab.patches import cv2_imshow"
      ]
    },
    {
      "cell_type": "code",
      "source": [
        "from google.colab import drive\n",
        "drive.mount('/content/drive')"
      ],
      "metadata": {
        "id": "orC7arf-jZ6p"
      },
      "execution_count": null,
      "outputs": []
    },
    {
      "cell_type": "code",
      "source": [
        "folder = '/content/drive/MyDrive/phi-2'"
      ],
      "metadata": {
        "id": "FP98pDwtjq8a"
      },
      "execution_count": 11,
      "outputs": []
    },
    {
      "cell_type": "code",
      "source": [
        "# function to import images from folder and them to array\n",
        "def import_images_from_folder(folder): # function to import images from folder and add their path to an array\n",
        "    images = [] # array to store images\n",
        "    for filename in os.listdir(folder): # loop through all the files and folders\n",
        "        img = cv.imread(os.path.join(folder,filename)) # read in the image\n",
        "        images.append(img) # add to array\n",
        "    return images # return array\n",
        "def show_image(image): # function to show image\n",
        "    cv2_imshow(image) # show image\n",
        "    cv.waitKey(0) # wait for key press\n",
        "    cv.destroyAllWindows() # close window\n",
        "    \n"
      ],
      "metadata": {
        "id": "q0uyZNJtiY0v"
      },
      "execution_count": 25,
      "outputs": []
    },
    {
      "cell_type": "code",
      "source": [
        "#convert to grayscale\n",
        "def convert_to_grayscale(image): \n",
        "    gray = cv.cvtColor(image, cv.COLOR_BGR2GRAY) \n",
        "    return gray\n",
        "    #convert grayscale to black and white\n",
        "def black_and_white(image):\n",
        "    ret, thresh = cv.threshold(image, 70, 255, cv.THRESH_BINARY) # convert to black and white , if the value of the pixel is less than 50 it is turned to white\n",
        "    return thresh\n",
        "#invert grayscale image\n",
        "def invert(image):\n",
        "    img = cv.bitwise_not(image) # invert image\n",
        "    return img"
      ],
      "metadata": {
        "id": "g0xvby4e559N"
      },
      "execution_count": 30,
      "outputs": []
    },
    {
      "cell_type": "code",
      "source": [
        "list = import_images_from_folder(folder)\n",
        "\n",
        "img = list[5]\n",
        "\n",
        "imgx = img.copy() \n",
        "\n",
        "img = invert(img)\n",
        "\n",
        "img1 = img # trying something out, to compare the two images\n",
        "\n",
        "show_image(img)\n",
        "\n",
        "img = black_and_white(img)\n",
        "\n",
        "show_image(img)\n",
        "\n",
        "# Below code was used during development to make sure all ellipsoids were intact after filtering.\n",
        "# img2 = cv.subtract(img,img1)\n",
        "# img3 = cv.subtract(img1,img)\n",
        "# show_image(img2)\n",
        "# show_image(img3)\n"
      ],
      "metadata": {
        "id": "e2FoxK1nj_C7"
      },
      "execution_count": null,
      "outputs": []
    },
    {
      "cell_type": "code",
      "source": [
        "# img = detect_ellipse(img)\n",
        "# show_image(img)"
      ],
      "metadata": {
        "id": "Uc8Pw4HTLjNI"
      },
      "execution_count": 105,
      "outputs": []
    },
    {
      "cell_type": "code",
      "source": [
        "IMG = img.copy()\n",
        "IMG = invert(IMG)\n",
        "show_image(IMG)\n",
        "IMG = convert_to_grayscale(IMG)\n",
        "contours, hierarchy = cv.findContours(IMG, cv.RETR_TREE, cv.CHAIN_APPROX_SIMPLE)\n",
        "cv.drawContours(imgx, contours, -1, (10, 255, 0), 1)\n",
        "show_image(imgx)"
      ],
      "metadata": {
        "id": "AbkHf5_dStLR"
      },
      "execution_count": null,
      "outputs": []
    },
    {
      "cell_type": "code",
      "source": [
        "print(contours)"
      ],
      "metadata": {
        "id": "kbPnYEKbZhRm"
      },
      "execution_count": null,
      "outputs": []
    }
  ]
}